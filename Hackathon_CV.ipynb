{
 "cells": [
  {
   "cell_type": "code",
   "execution_count": 1,
   "metadata": {},
   "outputs": [
    {
     "name": "stdout",
     "output_type": "stream",
     "text": [
      "YOLOv8 model loaded successfully!\n"
     ]
    }
   ],
   "source": [
    "from ultralytics import YOLO\n",
    "\n",
    "# Load your YOLOv8 model (replace with the correct model path)\n",
    "model = YOLO('yolov8n.pt')\n",
    "print(\"YOLOv8 model loaded successfully!\")\n"
   ]
  },
  {
   "cell_type": "code",
   "execution_count": 1,
   "metadata": {},
   "outputs": [
    {
     "name": "stdout",
     "output_type": "stream",
     "text": [
      "Requirement already satisfied: ultralytics in c:\\python312\\lib\\site-packages (8.3.44)\n",
      "Note: you may need to restart the kernel to use updated packages.\n"
     ]
    },
    {
     "name": "stderr",
     "output_type": "stream",
     "text": [
      "WARNING: Ignoring invalid distribution ~ltralytics (c:\\Python312\\Lib\\site-packages)\n",
      "WARNING: Ignoring invalid distribution ~ltralytics (c:\\Python312\\Lib\\site-packages)\n",
      "WARNING: Ignoring invalid distribution ~ltralytics (c:\\Python312\\Lib\\site-packages)\n"
     ]
    }
   ],
   "source": [
    "pip install ultralytics"
   ]
  },
  {
   "cell_type": "code",
   "execution_count": null,
   "metadata": {
    "colab": {
     "base_uri": "https://localhost:8080/"
    },
    "id": "lfGpkwnXjlsx",
    "outputId": "45adca95-0a11-496c-e4f0-49b808d5b1d6"
   },
   "outputs": [],
   "source": [
    "pip install ultralytics streamlit opencv-python roboflow\n"
   ]
  },
  {
   "cell_type": "code",
   "execution_count": null,
   "metadata": {},
   "outputs": [],
   "source": [
    "pip install ultralytics streamlit opencv-python roboflow\n"
   ]
  },
  {
   "cell_type": "code",
   "execution_count": null,
   "metadata": {
    "colab": {
     "base_uri": "https://localhost:8080/"
    },
    "id": "yM-jjy06jty-",
    "outputId": "484112eb-0d70-4c4e-ecfd-8d17e04fa590"
   },
   "outputs": [],
   "source": [
    "from roboflow import Roboflow\n",
    "\n",
    "# Initialize Roboflow with your API key\n",
    "rf = Roboflow(api_key=\"j8pEGPlDY4Kz1EELzh4z\")\n",
    "project = rf.workspace(\"ai-project-i3wje\").project(\"waste-detection-vqkjo\")\n",
    "version = project.version(10)\n",
    "dataset = version.download(\"yolov8\")\n"
   ]
  },
  {
   "cell_type": "code",
   "execution_count": null,
   "metadata": {
    "id": "UZAnW38zj06M"
   },
   "outputs": [
    {
     "name": "stderr",
     "output_type": "stream",
     "text": [
      "       1/50         0G      1.234      4.279      1.523         51        640:  39%|███▉      | 330/848 [31:03<1:03:22,  7.34s/it]"
     ]
    }
   ],
   "source": [
    "from ultralytics import YOLO\n",
    "\n",
    "# Load YOLOv8 model\n",
    "model = YOLO('yolov8n.pt')  # Choose YOLOv8n for lightweight or yolov8s for higher accuracy\n",
    "\n",
    "# Train the model\n",
    "model.train(data=r\"C:\\MCA\\5th trimester\\computer vision\\hackathon\\waste-detection-10\\data.yaml\", epochs=50, imgsz=640)\n",
    "\n",
    "# Save the best-trained weights\n",
    "model.save(\"./best.pt\")\n"
   ]
  },
  {
   "cell_type": "code",
   "execution_count": null,
   "metadata": {
    "id": "PLUU3NrwjzK6"
   },
   "outputs": [],
   "source": [
    "-from google.colab import files\n",
    "files.download('./best.pt')\n"
   ]
  },
  {
   "cell_type": "code",
   "execution_count": null,
   "metadata": {
    "id": "DGbvnrUuj4ZO"
   },
   "outputs": [],
   "source": [
    "import cv2\n",
    "from ultralytics import YOLO\n",
    "\n",
    "# Load the trained YOLO model\n",
    "model = YOLO('./best.pt')\n",
    "\n",
    "# Define waste categories\n",
    "CLASS_MAPPING = {\n",
    "    'BIODEGRADABLE': ['food_waste', 'leaves', 'paper', 'cardboard_box'],\n",
    "    'NON_BIODEGRADABLE': ['plastic_bag', 'can', 'plastic_bottle', 'metal_can'],\n",
    "    'HAZARDOUS': ['battery', 'chemical_spray_can', 'light_bulb', 'paint_bucket']\n",
    "}\n",
    "\n",
    "def classify_waste(class_name):\n",
    "    \"\"\"Classify detected waste into predefined categories.\"\"\"\n",
    "    for category, items in CLASS_MAPPING.items():\n",
    "        if class_name in items:\n",
    "            return category\n",
    "    return \"UNKNOWN\"\n",
    "\n",
    "# Start webcam capture\n",
    "cap = cv2.VideoCapture(0)\n",
    "\n",
    "while True:\n",
    "    ret, frame = cap.read()\n",
    "    if not ret:\n",
    "        break\n",
    "\n",
    "    # Perform detection\n",
    "    results = model(frame)\n",
    "\n",
    "    # Annotate results\n",
    "    for result in results[0].boxes:\n",
    "        x1, y1, x2, y2 = map(int, result.xyxy[0])  # Bounding box\n",
    "        class_id = int(result.cls)\n",
    "        class_name = results[0].names[class_id]\n",
    "        category = classify_waste(class_name)\n",
    "\n",
    "        # Draw bounding box and label\n",
    "        confidence = result.conf[0]\n",
    "        label = f\"{class_name} ({category}) {confidence:.2f}\"\n",
    "        cv2.rectangle(frame, (x1, y1), (x2, y2), (0, 255, 0), 2)\n",
    "        cv2.putText(frame, label, (x1, y1 - 10), cv2.FONT_HERSHEY_SIMPLEX, 0.5, (0, 255, 0), 2)\n",
    "\n",
    "    # Show the frame\n",
    "    cv2.imshow(\"Waste Detection\", frame)\n",
    "\n",
    "    if cv2.waitKey(1) & 0xFF == ord('q'):\n",
    "        break\n",
    "\n",
    "cap.release()\n",
    "cv2.destroyAllWindows()\n"
   ]
  }
 ],
 "metadata": {
  "colab": {
   "provenance": []
  },
  "kernelspec": {
   "display_name": "Python 3",
   "name": "python3"
  },
  "language_info": {
   "codemirror_mode": {
    "name": "ipython",
    "version": 3
   },
   "file_extension": ".py",
   "mimetype": "text/x-python",
   "name": "python",
   "nbconvert_exporter": "python",
   "pygments_lexer": "ipython3",
   "version": "3.12.7"
  }
 },
 "nbformat": 4,
 "nbformat_minor": 0
}
